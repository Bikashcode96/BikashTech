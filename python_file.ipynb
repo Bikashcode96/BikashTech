{
  "nbformat": 4,
  "nbformat_minor": 0,
  "metadata": {
    "colab": {
      "provenance": []
    },
    "kernelspec": {
      "name": "python3",
      "display_name": "Python 3"
    },
    "language_info": {
      "name": "python"
    }
  },
  "cells": [
    {
      "cell_type": "code",
      "execution_count": null,
      "metadata": {
        "id": "4cJFEzsWYPQQ"
      },
      "outputs": [],
      "source": []
    },
    {
      "cell_type": "code",
      "execution_count": null,
      "metadata": {
        "colab": {
          "base_uri": "https://localhost:8080/"
        },
        "id": "ucRqk3E7JtEb",
        "outputId": "f43ef384-2384-41a0-a060-ebfa3ef7b5dd"
      },
      "outputs": [
        {
          "output_type": "stream",
          "name": "stdout",
          "text": [
            "Epoch 1/10\n",
            "8/8 [==============================] - 6s 688ms/step - loss: 5105.9038 - accuracy: 0.3708 - val_loss: 3232.0210 - val_accuracy: 0.3607\n",
            "Epoch 2/10\n",
            "8/8 [==============================] - 7s 929ms/step - loss: 1576.4703 - accuracy: 0.3917 - val_loss: 904.7507 - val_accuracy: 0.4098\n",
            "Epoch 3/10\n",
            "8/8 [==============================] - 5s 661ms/step - loss: 663.5297 - accuracy: 0.4625 - val_loss: 633.5434 - val_accuracy: 0.3934\n",
            "Epoch 4/10\n",
            "8/8 [==============================] - 7s 847ms/step - loss: 179.2310 - accuracy: 0.5625 - val_loss: 181.5579 - val_accuracy: 0.4098\n",
            "Epoch 5/10\n",
            "8/8 [==============================] - 6s 718ms/step - loss: 64.6452 - accuracy: 0.6583 - val_loss: 80.0838 - val_accuracy: 0.4918\n",
            "Epoch 6/10\n",
            "8/8 [==============================] - 5s 650ms/step - loss: 21.1791 - accuracy: 0.8125 - val_loss: 88.8118 - val_accuracy: 0.5246\n",
            "Epoch 7/10\n",
            "8/8 [==============================] - 7s 949ms/step - loss: 5.8657 - accuracy: 0.9292 - val_loss: 43.1481 - val_accuracy: 0.6230\n",
            "Epoch 8/10\n",
            "8/8 [==============================] - 5s 646ms/step - loss: 1.7133 - accuracy: 0.9458 - val_loss: 44.0670 - val_accuracy: 0.6393\n",
            "Epoch 9/10\n",
            "8/8 [==============================] - 6s 721ms/step - loss: 0.6930 - accuracy: 0.9667 - val_loss: 42.7323 - val_accuracy: 0.6393\n",
            "Epoch 10/10\n",
            "8/8 [==============================] - 7s 801ms/step - loss: 1.5732e-04 - accuracy: 1.0000 - val_loss: 46.1521 - val_accuracy: 0.5574\n",
            "2/2 [==============================] - 1s 233ms/step - loss: 46.1521 - accuracy: 0.5574\n",
            "Test Accuracy: 0.5573770403862\n"
          ]
        },
        {
          "output_type": "stream",
          "name": "stderr",
          "text": [
            "/usr/local/lib/python3.10/dist-packages/keras/src/engine/training.py:3103: UserWarning: You are saving your model as an HDF5 file via `model.save()`. This file format is considered legacy. We recommend using instead the native Keras format, e.g. `model.save('my_model.keras')`.\n",
            "  saving_api.save_model(\n"
          ]
        }
      ],
      "source": [
        "import osimport cv2\n",
        "import numpy as np\n",
        "import tensorflow as tf\n",
        "from sklearn.model_selection import train_test_split\n",
        "from sklearn.preprocessing import LabelEncoder\n",
        "\n",
        "# Function to load and preprocess images\n",
        "def load_and_preprocess_images(dataset_path, image_size=(128, 128)):\n",
        "    images = []\n",
        "    labels = []\n",
        "\n",
        "    for label, person in enumerate(os.listdir(dataset_path)):\n",
        "        person_path = os.path.join(dataset_path, person)\n",
        "        for image_name in os.listdir(person_path):\n",
        "            image_path = os.path.join(person_path, image_name)\n",
        "            image = cv2.imread(image_path)\n",
        "            image = cv2.cvtColor(image, cv2.COLOR_BGR2RGB)\n",
        "            image = cv2.resize(image, image_size)\n",
        "            images.append(image)\n",
        "            labels.append(label)\n",
        "\n",
        "    return np.array(images), np.array(labels)\n",
        "\n",
        "# Load and preprocess the dataset\n",
        "dataset_path = '/content/Datasets'\n",
        "images, labels = load_and_preprocess_images(dataset_path)\n",
        "\n",
        "# Encode labels\n",
        "label_encoder = LabelEncoder()\n",
        "encoded_labels = label_encoder.fit_transform(labels)\n",
        "\n",
        "# Split the dataset into training and testing sets\n",
        "X_train, X_test, y_train, y_test = train_test_split(images, encoded_labels, test_size=0.2, random_state=42)\n",
        "\n",
        "# Define the model architecture (a simple CNN for demonstration)\n",
        "model = tf.keras.Sequential([\n",
        "    tf.keras.layers.Conv2D(32, (3, 3), activation='relu', input_shape=(128, 128, 3)),\n",
        "    tf.keras.layers.MaxPooling2D((2, 2)),\n",
        "    tf.keras.layers.Flatten(),\n",
        "    tf.keras.layers.Dense(128, activation='relu'),\n",
        "    tf.keras.layers.Dense(len(np.unique(encoded_labels)), activation='softmax')\n",
        "])\n",
        "\n",
        "# Compile the model\n",
        "model.compile(optimizer='adam', loss='sparse_categorical_crossentropy', metrics=['accuracy'])\n",
        "\n",
        "# Train the model\n",
        "model.fit(X_train, y_train, epochs=10, validation_data=(X_test, y_test))\n",
        "\n",
        "# Evaluate the model\n",
        "test_loss, test_accuracy = model.evaluate(X_test, y_test)\n",
        "print(f\"Test Accuracy: {test_accuracy}\")\n",
        "\n",
        "# Save the model for future use\n",
        "model.save('face_recognition_model.h5')"
      ]
    }
  ]
}